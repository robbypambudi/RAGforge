{
 "cells": [
  {
   "metadata": {},
   "cell_type": "markdown",
   "source": "Let's connect to Chroma DB running in Docker. We'll need the `chromadb` package to interact with it.",
   "id": "2174a3682bc05e8d"
  },
  {
   "metadata": {
    "ExecuteTime": {
     "end_time": "2025-06-21T14:11:30.071558Z",
     "start_time": "2025-06-21T14:11:28.972868Z"
    }
   },
   "cell_type": "code",
   "source": [
    "\n",
    "\n",
    "import chromadb\n",
    "\n",
    "client = chromadb.HttpClient(host=\"localhost\", port=8000)\n",
    "\n",
    "# Test connection\n",
    "client.heartbeat()"
   ],
   "id": "fa80d3ab15de2218",
   "outputs": [
    {
     "ename": "ValueError",
     "evalue": "Could not connect to a Chroma server. Are you sure it is running?",
     "output_type": "error",
     "traceback": [
      "\u001B[31m---------------------------------------------------------------------------\u001B[39m",
      "\u001B[31mConnectError\u001B[39m                              Traceback (most recent call last)",
      "\u001B[36mFile \u001B[39m\u001B[32m~/miniconda3/envs/chatbot/lib/python3.12/site-packages/httpx/_transports/default.py:101\u001B[39m, in \u001B[36mmap_httpcore_exceptions\u001B[39m\u001B[34m()\u001B[39m\n\u001B[32m    100\u001B[39m \u001B[38;5;28;01mtry\u001B[39;00m:\n\u001B[32m--> \u001B[39m\u001B[32m101\u001B[39m     \u001B[38;5;28;01myield\u001B[39;00m\n\u001B[32m    102\u001B[39m \u001B[38;5;28;01mexcept\u001B[39;00m \u001B[38;5;167;01mException\u001B[39;00m \u001B[38;5;28;01mas\u001B[39;00m exc:\n",
      "\u001B[36mFile \u001B[39m\u001B[32m~/miniconda3/envs/chatbot/lib/python3.12/site-packages/httpx/_transports/default.py:250\u001B[39m, in \u001B[36mHTTPTransport.handle_request\u001B[39m\u001B[34m(self, request)\u001B[39m\n\u001B[32m    249\u001B[39m \u001B[38;5;28;01mwith\u001B[39;00m map_httpcore_exceptions():\n\u001B[32m--> \u001B[39m\u001B[32m250\u001B[39m     resp = \u001B[38;5;28mself\u001B[39m._pool.handle_request(req)\n\u001B[32m    252\u001B[39m \u001B[38;5;28;01massert\u001B[39;00m \u001B[38;5;28misinstance\u001B[39m(resp.stream, typing.Iterable)\n",
      "\u001B[36mFile \u001B[39m\u001B[32m~/miniconda3/envs/chatbot/lib/python3.12/site-packages/httpcore/_sync/connection_pool.py:256\u001B[39m, in \u001B[36mConnectionPool.handle_request\u001B[39m\u001B[34m(self, request)\u001B[39m\n\u001B[32m    255\u001B[39m     \u001B[38;5;28mself\u001B[39m._close_connections(closing)\n\u001B[32m--> \u001B[39m\u001B[32m256\u001B[39m     \u001B[38;5;28;01mraise\u001B[39;00m exc \u001B[38;5;28;01mfrom\u001B[39;00m\u001B[38;5;250m \u001B[39m\u001B[38;5;28;01mNone\u001B[39;00m\n\u001B[32m    258\u001B[39m \u001B[38;5;66;03m# Return the response. Note that in this case we still have to manage\u001B[39;00m\n\u001B[32m    259\u001B[39m \u001B[38;5;66;03m# the point at which the response is closed.\u001B[39;00m\n",
      "\u001B[36mFile \u001B[39m\u001B[32m~/miniconda3/envs/chatbot/lib/python3.12/site-packages/httpcore/_sync/connection_pool.py:236\u001B[39m, in \u001B[36mConnectionPool.handle_request\u001B[39m\u001B[34m(self, request)\u001B[39m\n\u001B[32m    234\u001B[39m \u001B[38;5;28;01mtry\u001B[39;00m:\n\u001B[32m    235\u001B[39m     \u001B[38;5;66;03m# Send the request on the assigned connection.\u001B[39;00m\n\u001B[32m--> \u001B[39m\u001B[32m236\u001B[39m     response = connection.handle_request(\n\u001B[32m    237\u001B[39m         pool_request.request\n\u001B[32m    238\u001B[39m     )\n\u001B[32m    239\u001B[39m \u001B[38;5;28;01mexcept\u001B[39;00m ConnectionNotAvailable:\n\u001B[32m    240\u001B[39m     \u001B[38;5;66;03m# In some cases a connection may initially be available to\u001B[39;00m\n\u001B[32m    241\u001B[39m     \u001B[38;5;66;03m# handle a request, but then become unavailable.\u001B[39;00m\n\u001B[32m    242\u001B[39m     \u001B[38;5;66;03m#\u001B[39;00m\n\u001B[32m    243\u001B[39m     \u001B[38;5;66;03m# In this case we clear the connection and try again.\u001B[39;00m\n",
      "\u001B[36mFile \u001B[39m\u001B[32m~/miniconda3/envs/chatbot/lib/python3.12/site-packages/httpcore/_sync/connection.py:101\u001B[39m, in \u001B[36mHTTPConnection.handle_request\u001B[39m\u001B[34m(self, request)\u001B[39m\n\u001B[32m    100\u001B[39m     \u001B[38;5;28mself\u001B[39m._connect_failed = \u001B[38;5;28;01mTrue\u001B[39;00m\n\u001B[32m--> \u001B[39m\u001B[32m101\u001B[39m     \u001B[38;5;28;01mraise\u001B[39;00m exc\n\u001B[32m    103\u001B[39m \u001B[38;5;28;01mreturn\u001B[39;00m \u001B[38;5;28mself\u001B[39m._connection.handle_request(request)\n",
      "\u001B[36mFile \u001B[39m\u001B[32m~/miniconda3/envs/chatbot/lib/python3.12/site-packages/httpcore/_sync/connection.py:78\u001B[39m, in \u001B[36mHTTPConnection.handle_request\u001B[39m\u001B[34m(self, request)\u001B[39m\n\u001B[32m     77\u001B[39m \u001B[38;5;28;01mif\u001B[39;00m \u001B[38;5;28mself\u001B[39m._connection \u001B[38;5;129;01mis\u001B[39;00m \u001B[38;5;28;01mNone\u001B[39;00m:\n\u001B[32m---> \u001B[39m\u001B[32m78\u001B[39m     stream = \u001B[38;5;28mself\u001B[39m._connect(request)\n\u001B[32m     80\u001B[39m     ssl_object = stream.get_extra_info(\u001B[33m\"\u001B[39m\u001B[33mssl_object\u001B[39m\u001B[33m\"\u001B[39m)\n",
      "\u001B[36mFile \u001B[39m\u001B[32m~/miniconda3/envs/chatbot/lib/python3.12/site-packages/httpcore/_sync/connection.py:124\u001B[39m, in \u001B[36mHTTPConnection._connect\u001B[39m\u001B[34m(self, request)\u001B[39m\n\u001B[32m    123\u001B[39m \u001B[38;5;28;01mwith\u001B[39;00m Trace(\u001B[33m\"\u001B[39m\u001B[33mconnect_tcp\u001B[39m\u001B[33m\"\u001B[39m, logger, request, kwargs) \u001B[38;5;28;01mas\u001B[39;00m trace:\n\u001B[32m--> \u001B[39m\u001B[32m124\u001B[39m     stream = \u001B[38;5;28mself\u001B[39m._network_backend.connect_tcp(**kwargs)\n\u001B[32m    125\u001B[39m     trace.return_value = stream\n",
      "\u001B[36mFile \u001B[39m\u001B[32m~/miniconda3/envs/chatbot/lib/python3.12/site-packages/httpcore/_backends/sync.py:207\u001B[39m, in \u001B[36mSyncBackend.connect_tcp\u001B[39m\u001B[34m(self, host, port, timeout, local_address, socket_options)\u001B[39m\n\u001B[32m    202\u001B[39m exc_map: ExceptionMapping = {\n\u001B[32m    203\u001B[39m     socket.timeout: ConnectTimeout,\n\u001B[32m    204\u001B[39m     \u001B[38;5;167;01mOSError\u001B[39;00m: ConnectError,\n\u001B[32m    205\u001B[39m }\n\u001B[32m--> \u001B[39m\u001B[32m207\u001B[39m \u001B[38;5;28;01mwith\u001B[39;00m map_exceptions(exc_map):\n\u001B[32m    208\u001B[39m     sock = socket.create_connection(\n\u001B[32m    209\u001B[39m         address,\n\u001B[32m    210\u001B[39m         timeout,\n\u001B[32m    211\u001B[39m         source_address=source_address,\n\u001B[32m    212\u001B[39m     )\n",
      "\u001B[36mFile \u001B[39m\u001B[32m~/miniconda3/envs/chatbot/lib/python3.12/contextlib.py:155\u001B[39m, in \u001B[36m_GeneratorContextManager.__exit__\u001B[39m\u001B[34m(self, typ, value, traceback)\u001B[39m\n\u001B[32m    154\u001B[39m \u001B[38;5;28;01mtry\u001B[39;00m:\n\u001B[32m--> \u001B[39m\u001B[32m155\u001B[39m     \u001B[38;5;28mself\u001B[39m.gen.throw(value)\n\u001B[32m    156\u001B[39m \u001B[38;5;28;01mexcept\u001B[39;00m \u001B[38;5;167;01mStopIteration\u001B[39;00m \u001B[38;5;28;01mas\u001B[39;00m exc:\n\u001B[32m    157\u001B[39m     \u001B[38;5;66;03m# Suppress StopIteration *unless* it's the same exception that\u001B[39;00m\n\u001B[32m    158\u001B[39m     \u001B[38;5;66;03m# was passed to throw().  This prevents a StopIteration\u001B[39;00m\n\u001B[32m    159\u001B[39m     \u001B[38;5;66;03m# raised inside the \"with\" statement from being suppressed.\u001B[39;00m\n",
      "\u001B[36mFile \u001B[39m\u001B[32m~/miniconda3/envs/chatbot/lib/python3.12/site-packages/httpcore/_exceptions.py:14\u001B[39m, in \u001B[36mmap_exceptions\u001B[39m\u001B[34m(map)\u001B[39m\n\u001B[32m     13\u001B[39m     \u001B[38;5;28;01mif\u001B[39;00m \u001B[38;5;28misinstance\u001B[39m(exc, from_exc):\n\u001B[32m---> \u001B[39m\u001B[32m14\u001B[39m         \u001B[38;5;28;01mraise\u001B[39;00m to_exc(exc) \u001B[38;5;28;01mfrom\u001B[39;00m\u001B[38;5;250m \u001B[39m\u001B[34;01mexc\u001B[39;00m\n\u001B[32m     15\u001B[39m \u001B[38;5;28;01mraise\u001B[39;00m\n",
      "\u001B[31mConnectError\u001B[39m: [Errno 111] Connection refused",
      "\nThe above exception was the direct cause of the following exception:\n",
      "\u001B[31mConnectError\u001B[39m                              Traceback (most recent call last)",
      "\u001B[36mFile \u001B[39m\u001B[32m~/miniconda3/envs/chatbot/lib/python3.12/site-packages/chromadb/api/client.py:106\u001B[39m, in \u001B[36mClient.get_user_identity\u001B[39m\u001B[34m(self)\u001B[39m\n\u001B[32m    105\u001B[39m \u001B[38;5;28;01mtry\u001B[39;00m:\n\u001B[32m--> \u001B[39m\u001B[32m106\u001B[39m     \u001B[38;5;28;01mreturn\u001B[39;00m \u001B[38;5;28mself\u001B[39m._server.get_user_identity()\n\u001B[32m    107\u001B[39m \u001B[38;5;28;01mexcept\u001B[39;00m httpx.ConnectError:\n",
      "\u001B[36mFile \u001B[39m\u001B[32m~/miniconda3/envs/chatbot/lib/python3.12/site-packages/chromadb/telemetry/opentelemetry/__init__.py:150\u001B[39m, in \u001B[36mtrace_method.<locals>.decorator.<locals>.wrapper\u001B[39m\u001B[34m(*args, **kwargs)\u001B[39m\n\u001B[32m    149\u001B[39m \u001B[38;5;28;01mif\u001B[39;00m trace_granularity < granularity:\n\u001B[32m--> \u001B[39m\u001B[32m150\u001B[39m     \u001B[38;5;28;01mreturn\u001B[39;00m f(*args, **kwargs)\n\u001B[32m    151\u001B[39m \u001B[38;5;28;01mif\u001B[39;00m \u001B[38;5;129;01mnot\u001B[39;00m tracer:\n",
      "\u001B[36mFile \u001B[39m\u001B[32m~/miniconda3/envs/chatbot/lib/python3.12/site-packages/chromadb/api/fastapi.py:203\u001B[39m, in \u001B[36mFastAPI.get_user_identity\u001B[39m\u001B[34m(self)\u001B[39m\n\u001B[32m    200\u001B[39m \u001B[38;5;129m@trace_method\u001B[39m(\u001B[33m\"\u001B[39m\u001B[33mFastAPI.get_user_identity\u001B[39m\u001B[33m\"\u001B[39m, OpenTelemetryGranularity.OPERATION)\n\u001B[32m    201\u001B[39m \u001B[38;5;129m@override\u001B[39m\n\u001B[32m    202\u001B[39m \u001B[38;5;28;01mdef\u001B[39;00m\u001B[38;5;250m \u001B[39m\u001B[34mget_user_identity\u001B[39m(\u001B[38;5;28mself\u001B[39m) -> UserIdentity:\n\u001B[32m--> \u001B[39m\u001B[32m203\u001B[39m     \u001B[38;5;28;01mreturn\u001B[39;00m UserIdentity(**\u001B[38;5;28mself\u001B[39m._make_request(\u001B[33m\"\u001B[39m\u001B[33mget\u001B[39m\u001B[33m\"\u001B[39m, \u001B[33m\"\u001B[39m\u001B[33m/auth/identity\u001B[39m\u001B[33m\"\u001B[39m))\n",
      "\u001B[36mFile \u001B[39m\u001B[32m~/miniconda3/envs/chatbot/lib/python3.12/site-packages/chromadb/api/fastapi.py:108\u001B[39m, in \u001B[36mFastAPI._make_request\u001B[39m\u001B[34m(self, method, path, **kwargs)\u001B[39m\n\u001B[32m    106\u001B[39m url = \u001B[38;5;28mself\u001B[39m._api_url + escaped_path\n\u001B[32m--> \u001B[39m\u001B[32m108\u001B[39m response = \u001B[38;5;28mself\u001B[39m._session.request(method, url, **cast(Any, kwargs))\n\u001B[32m    109\u001B[39m BaseHTTPClient._raise_chroma_error(response)\n",
      "\u001B[36mFile \u001B[39m\u001B[32m~/miniconda3/envs/chatbot/lib/python3.12/site-packages/httpx/_client.py:825\u001B[39m, in \u001B[36mClient.request\u001B[39m\u001B[34m(self, method, url, content, data, files, json, params, headers, cookies, auth, follow_redirects, timeout, extensions)\u001B[39m\n\u001B[32m    812\u001B[39m request = \u001B[38;5;28mself\u001B[39m.build_request(\n\u001B[32m    813\u001B[39m     method=method,\n\u001B[32m    814\u001B[39m     url=url,\n\u001B[32m   (...)\u001B[39m\u001B[32m    823\u001B[39m     extensions=extensions,\n\u001B[32m    824\u001B[39m )\n\u001B[32m--> \u001B[39m\u001B[32m825\u001B[39m \u001B[38;5;28;01mreturn\u001B[39;00m \u001B[38;5;28mself\u001B[39m.send(request, auth=auth, follow_redirects=follow_redirects)\n",
      "\u001B[36mFile \u001B[39m\u001B[32m~/miniconda3/envs/chatbot/lib/python3.12/site-packages/httpx/_client.py:914\u001B[39m, in \u001B[36mClient.send\u001B[39m\u001B[34m(self, request, stream, auth, follow_redirects)\u001B[39m\n\u001B[32m    912\u001B[39m auth = \u001B[38;5;28mself\u001B[39m._build_request_auth(request, auth)\n\u001B[32m--> \u001B[39m\u001B[32m914\u001B[39m response = \u001B[38;5;28mself\u001B[39m._send_handling_auth(\n\u001B[32m    915\u001B[39m     request,\n\u001B[32m    916\u001B[39m     auth=auth,\n\u001B[32m    917\u001B[39m     follow_redirects=follow_redirects,\n\u001B[32m    918\u001B[39m     history=[],\n\u001B[32m    919\u001B[39m )\n\u001B[32m    920\u001B[39m \u001B[38;5;28;01mtry\u001B[39;00m:\n",
      "\u001B[36mFile \u001B[39m\u001B[32m~/miniconda3/envs/chatbot/lib/python3.12/site-packages/httpx/_client.py:942\u001B[39m, in \u001B[36mClient._send_handling_auth\u001B[39m\u001B[34m(self, request, auth, follow_redirects, history)\u001B[39m\n\u001B[32m    941\u001B[39m \u001B[38;5;28;01mwhile\u001B[39;00m \u001B[38;5;28;01mTrue\u001B[39;00m:\n\u001B[32m--> \u001B[39m\u001B[32m942\u001B[39m     response = \u001B[38;5;28mself\u001B[39m._send_handling_redirects(\n\u001B[32m    943\u001B[39m         request,\n\u001B[32m    944\u001B[39m         follow_redirects=follow_redirects,\n\u001B[32m    945\u001B[39m         history=history,\n\u001B[32m    946\u001B[39m     )\n\u001B[32m    947\u001B[39m     \u001B[38;5;28;01mtry\u001B[39;00m:\n",
      "\u001B[36mFile \u001B[39m\u001B[32m~/miniconda3/envs/chatbot/lib/python3.12/site-packages/httpx/_client.py:979\u001B[39m, in \u001B[36mClient._send_handling_redirects\u001B[39m\u001B[34m(self, request, follow_redirects, history)\u001B[39m\n\u001B[32m    977\u001B[39m     hook(request)\n\u001B[32m--> \u001B[39m\u001B[32m979\u001B[39m response = \u001B[38;5;28mself\u001B[39m._send_single_request(request)\n\u001B[32m    980\u001B[39m \u001B[38;5;28;01mtry\u001B[39;00m:\n",
      "\u001B[36mFile \u001B[39m\u001B[32m~/miniconda3/envs/chatbot/lib/python3.12/site-packages/httpx/_client.py:1014\u001B[39m, in \u001B[36mClient._send_single_request\u001B[39m\u001B[34m(self, request)\u001B[39m\n\u001B[32m   1013\u001B[39m \u001B[38;5;28;01mwith\u001B[39;00m request_context(request=request):\n\u001B[32m-> \u001B[39m\u001B[32m1014\u001B[39m     response = transport.handle_request(request)\n\u001B[32m   1016\u001B[39m \u001B[38;5;28;01massert\u001B[39;00m \u001B[38;5;28misinstance\u001B[39m(response.stream, SyncByteStream)\n",
      "\u001B[36mFile \u001B[39m\u001B[32m~/miniconda3/envs/chatbot/lib/python3.12/site-packages/httpx/_transports/default.py:249\u001B[39m, in \u001B[36mHTTPTransport.handle_request\u001B[39m\u001B[34m(self, request)\u001B[39m\n\u001B[32m    237\u001B[39m req = httpcore.Request(\n\u001B[32m    238\u001B[39m     method=request.method,\n\u001B[32m    239\u001B[39m     url=httpcore.URL(\n\u001B[32m   (...)\u001B[39m\u001B[32m    247\u001B[39m     extensions=request.extensions,\n\u001B[32m    248\u001B[39m )\n\u001B[32m--> \u001B[39m\u001B[32m249\u001B[39m \u001B[38;5;28;01mwith\u001B[39;00m map_httpcore_exceptions():\n\u001B[32m    250\u001B[39m     resp = \u001B[38;5;28mself\u001B[39m._pool.handle_request(req)\n",
      "\u001B[36mFile \u001B[39m\u001B[32m~/miniconda3/envs/chatbot/lib/python3.12/contextlib.py:155\u001B[39m, in \u001B[36m_GeneratorContextManager.__exit__\u001B[39m\u001B[34m(self, typ, value, traceback)\u001B[39m\n\u001B[32m    154\u001B[39m \u001B[38;5;28;01mtry\u001B[39;00m:\n\u001B[32m--> \u001B[39m\u001B[32m155\u001B[39m     \u001B[38;5;28mself\u001B[39m.gen.throw(value)\n\u001B[32m    156\u001B[39m \u001B[38;5;28;01mexcept\u001B[39;00m \u001B[38;5;167;01mStopIteration\u001B[39;00m \u001B[38;5;28;01mas\u001B[39;00m exc:\n\u001B[32m    157\u001B[39m     \u001B[38;5;66;03m# Suppress StopIteration *unless* it's the same exception that\u001B[39;00m\n\u001B[32m    158\u001B[39m     \u001B[38;5;66;03m# was passed to throw().  This prevents a StopIteration\u001B[39;00m\n\u001B[32m    159\u001B[39m     \u001B[38;5;66;03m# raised inside the \"with\" statement from being suppressed.\u001B[39;00m\n",
      "\u001B[36mFile \u001B[39m\u001B[32m~/miniconda3/envs/chatbot/lib/python3.12/site-packages/httpx/_transports/default.py:118\u001B[39m, in \u001B[36mmap_httpcore_exceptions\u001B[39m\u001B[34m()\u001B[39m\n\u001B[32m    117\u001B[39m message = \u001B[38;5;28mstr\u001B[39m(exc)\n\u001B[32m--> \u001B[39m\u001B[32m118\u001B[39m \u001B[38;5;28;01mraise\u001B[39;00m mapped_exc(message) \u001B[38;5;28;01mfrom\u001B[39;00m\u001B[38;5;250m \u001B[39m\u001B[34;01mexc\u001B[39;00m\n",
      "\u001B[31mConnectError\u001B[39m: [Errno 111] Connection refused",
      "\nDuring handling of the above exception, another exception occurred:\n",
      "\u001B[31mValueError\u001B[39m                                Traceback (most recent call last)",
      "\u001B[36mCell\u001B[39m\u001B[36m \u001B[39m\u001B[32mIn[1]\u001B[39m\u001B[32m, line 3\u001B[39m\n\u001B[32m      1\u001B[39m \u001B[38;5;28;01mimport\u001B[39;00m\u001B[38;5;250m \u001B[39m\u001B[34;01mchromadb\u001B[39;00m\n\u001B[32m----> \u001B[39m\u001B[32m3\u001B[39m client = chromadb.HttpClient(host=\u001B[33m\"\u001B[39m\u001B[33mlocalhost\u001B[39m\u001B[33m\"\u001B[39m, port=\u001B[32m8000\u001B[39m)\n\u001B[32m      5\u001B[39m \u001B[38;5;66;03m# Test connection\u001B[39;00m\n\u001B[32m      6\u001B[39m client.heartbeat()\n",
      "\u001B[36mFile \u001B[39m\u001B[32m~/miniconda3/envs/chatbot/lib/python3.12/site-packages/chromadb/__init__.py:241\u001B[39m, in \u001B[36mHttpClient\u001B[39m\u001B[34m(host, port, ssl, headers, settings, tenant, database)\u001B[39m\n\u001B[32m    238\u001B[39m settings.chroma_server_ssl_enabled = ssl\n\u001B[32m    239\u001B[39m settings.chroma_server_headers = headers\n\u001B[32m--> \u001B[39m\u001B[32m241\u001B[39m \u001B[38;5;28;01mreturn\u001B[39;00m ClientCreator(tenant=tenant, database=database, settings=settings)\n",
      "\u001B[36mFile \u001B[39m\u001B[32m~/miniconda3/envs/chatbot/lib/python3.12/site-packages/chromadb/api/client.py:70\u001B[39m, in \u001B[36mClient.__init__\u001B[39m\u001B[34m(self, tenant, database, settings)\u001B[39m\n\u001B[32m     67\u001B[39m \u001B[38;5;66;03m# Get the root system component we want to interact with\u001B[39;00m\n\u001B[32m     68\u001B[39m \u001B[38;5;28mself\u001B[39m._server = \u001B[38;5;28mself\u001B[39m._system.instance(ServerAPI)\n\u001B[32m---> \u001B[39m\u001B[32m70\u001B[39m user_identity = \u001B[38;5;28mself\u001B[39m.get_user_identity()\n\u001B[32m     72\u001B[39m maybe_tenant, maybe_database = maybe_set_tenant_and_database(\n\u001B[32m     73\u001B[39m     user_identity,\n\u001B[32m     74\u001B[39m     overwrite_singleton_tenant_database_access_from_auth=settings.chroma_overwrite_singleton_tenant_database_access_from_auth,\n\u001B[32m     75\u001B[39m     user_provided_tenant=tenant,\n\u001B[32m     76\u001B[39m     user_provided_database=database,\n\u001B[32m     77\u001B[39m )\n\u001B[32m     78\u001B[39m \u001B[38;5;28;01mif\u001B[39;00m maybe_tenant:\n",
      "\u001B[36mFile \u001B[39m\u001B[32m~/miniconda3/envs/chatbot/lib/python3.12/site-packages/chromadb/api/client.py:108\u001B[39m, in \u001B[36mClient.get_user_identity\u001B[39m\u001B[34m(self)\u001B[39m\n\u001B[32m    106\u001B[39m     \u001B[38;5;28;01mreturn\u001B[39;00m \u001B[38;5;28mself\u001B[39m._server.get_user_identity()\n\u001B[32m    107\u001B[39m \u001B[38;5;28;01mexcept\u001B[39;00m httpx.ConnectError:\n\u001B[32m--> \u001B[39m\u001B[32m108\u001B[39m     \u001B[38;5;28;01mraise\u001B[39;00m \u001B[38;5;167;01mValueError\u001B[39;00m(\n\u001B[32m    109\u001B[39m         \u001B[33m\"\u001B[39m\u001B[33mCould not connect to a Chroma server. Are you sure it is running?\u001B[39m\u001B[33m\"\u001B[39m\n\u001B[32m    110\u001B[39m     )\n\u001B[32m    111\u001B[39m \u001B[38;5;66;03m# Propagate ChromaErrors\u001B[39;00m\n\u001B[32m    112\u001B[39m \u001B[38;5;28;01mexcept\u001B[39;00m ChromaError \u001B[38;5;28;01mas\u001B[39;00m e:\n",
      "\u001B[31mValueError\u001B[39m: Could not connect to a Chroma server. Are you sure it is running?"
     ]
    }
   ],
   "execution_count": 1
  },
  {
   "metadata": {},
   "cell_type": "markdown",
   "source": [
    "The code above:\n",
    "1. Installs the chromadb package\n",
    "2. Imports chromadb and necessary settings\n",
    "3. Creates an HTTP client connection to the Chroma instance running in Docker at localhost:8000\n",
    "4. Tests the connection with a heartbeat check\n",
    "\n",
    "Make sure your Docker container with Chroma is running before executing this code. The default port 8000 is used assuming standard Chroma Docker setup.\n"
   ],
   "id": "4e494bf35a7a4333"
  },
  {
   "metadata": {},
   "cell_type": "markdown",
   "source": "Let's connect to the 'mahasiswa' collection and perform some example queries to evaluate the data.",
   "id": "9b1df241a346b372"
  },
  {
   "metadata": {},
   "cell_type": "code",
   "outputs": [],
   "execution_count": null,
   "source": [
    "from chromadb.utils.embedding_functions import SentenceTransformerEmbeddingFunction\n",
    "\n",
    "embedding_function = SentenceTransformerEmbeddingFunction()\n",
    "\n",
    "chroma_collection = client.get_collection(\"mahasiswa\", embedding_function=embedding_function)"
   ],
   "id": "1d5f79d0cc4c85ac"
  },
  {
   "metadata": {},
   "cell_type": "code",
   "outputs": [],
   "execution_count": null,
   "source": [
    "# Get all documents\n",
    "\n",
    "original_query = \"Apa itu SPMB JATIM 2025?\"\n",
    "results = chroma_collection.query(\n",
    "    query_texts=[original_query],\n",
    "    n_results=5,\n",
    ")\n",
    "\n",
    "retrieved_documents = results[\"documents\"][0]\n",
    "\n",
    "for doc in retrieved_documents:\n",
    "    print(doc)\n",
    "    print('\\n' + '-' * 80 + '\\n')"
   ],
   "id": "c0e4748aad2f85d8"
  },
  {
   "metadata": {},
   "cell_type": "markdown",
   "source": "# Leason 2 Pitfalls of retrival",
   "id": "7c4ec40f1a22626e"
  },
  {
   "metadata": {},
   "cell_type": "code",
   "outputs": [],
   "execution_count": null,
   "source": "chroma_collection.count()",
   "id": "67d970521258a76"
  },
  {
   "metadata": {},
   "cell_type": "code",
   "outputs": [],
   "execution_count": null,
   "source": [
    "import umap\n",
    "\n",
    "embeddings = chroma_collection.get(include=[\"embeddings\"])[\"embeddings\"]\n",
    "umap_transform = umap.UMAP(random_state=0, transform_seed=0).fit(embeddings)"
   ],
   "id": "ec8e5cb34d6dcb82"
  },
  {
   "metadata": {},
   "cell_type": "code",
   "outputs": [],
   "execution_count": null,
   "source": [
    "import numpy as np\n",
    "from tqdm import tqdm\n",
    "\n",
    "\n",
    "def project_embeddings(embeddings, umap_transform):\n",
    "    umap_embeddings = np.empty((len(embeddings), 2))\n",
    "    print(umap_embeddings.shape)\n",
    "    for i, embedding in enumerate(tqdm(embeddings)):\n",
    "        umap_embeddings[i] = umap_transform.transform([embedding])\n",
    "    return umap_embeddings\n",
    "\n"
   ],
   "id": "bb53b8ce6be7f593"
  },
  {
   "metadata": {},
   "cell_type": "code",
   "outputs": [],
   "execution_count": null,
   "source": "projected_dataset_embeddings = project_embeddings(embeddings, umap_transform)",
   "id": "cb15ceecc700ad5d"
  },
  {
   "metadata": {},
   "cell_type": "code",
   "outputs": [],
   "execution_count": null,
   "source": [
    "import matplotlib.pyplot as plt\n",
    "\n",
    "plt.figure()\n",
    "plt.scatter(projected_dataset_embeddings[:, 0], projected_dataset_embeddings[:, 1], s=10)\n",
    "plt.gca().set_aspect('equal', 'datalim')\n",
    "plt.title('Projected Embeddings')\n",
    "plt.axis('off')"
   ],
   "id": "3cd26d537ac34cc3"
  },
  {
   "metadata": {},
   "cell_type": "markdown",
   "source": [
    "Gambar tersebut merupakan visualisasi dari proyeksi embeddings menggunakan UMAP (Uniform Manifold Approximation and Projection). Visualisasi ini menunjukkan:\n",
    "\n",
    "1. Representasi dimensi tinggi dari embeddings dokumen yang diproyeksikan ke dalam ruang 2D\n",
    "2. Setiap titik pada plot mewakili satu dokumen/chunk teks dari dataset JUKNIS SPMB JATIM 2025\n",
    "3. Titik-titik yang berdekatan menunjukkan dokumen yang memiliki konten/makna yang mirip\n",
    "4. Titik-titik yang berjauhan menunjukkan dokumen dengan konten yang berbeda secara semantik\n",
    "\n",
    "Visualisasi ini berguna untuk:\n",
    "- Melihat sebaran/distribusi dokumen berdasarkan kemiripan kontennya\n",
    "- Mengidentifikasi cluster/kelompok dokumen yang memiliki tema serupa\n",
    "- Mendeteksi anomali atau outlier dalam dataset"
   ],
   "id": "3be6ba32a43912c0"
  },
  {
   "metadata": {},
   "cell_type": "code",
   "outputs": [],
   "execution_count": null,
   "source": [
    "import matplotlib.pyplot as plt\n",
    "\n",
    "# Tambahkan label untuk melihat konten dari beberapa titik sampel\n",
    "plt.figure(figsize=(12, 8))\n",
    "plt.scatter(projected_dataset_embeddings[:, 0], projected_dataset_embeddings[:, 1], s=10)\n",
    "\n",
    "# Plot beberapa label sampel\n",
    "for i in range(0, len(token_split_texts), len(token_split_texts) // 5):\n",
    "    plt.annotate(token_split_texts[i][:50] + \"...\",\n",
    "                 (projected_dataset_embeddings[i, 0], projected_dataset_embeddings[i, 1]),\n",
    "                 fontsize=8)\n",
    "\n",
    "plt.title('Projected Embeddings with Sample Labels')\n",
    "plt.axis('off')\n",
    "plt.show()\n"
   ],
   "id": "79a641d1999508c4"
  },
  {
   "metadata": {},
   "cell_type": "code",
   "outputs": [],
   "execution_count": null,
   "source": [
    "query = \"Apa saja syarat untuk mendaftar SPMB Jatim 2025?\"\n",
    "results = chroma_collection.query(\n",
    "    query_texts=[query],\n",
    "    n_results=5,\n",
    "    include=['documents', 'embeddings']\n",
    ")\n",
    "\n",
    "retrieved_documents = results[\"documents\"][0]\n",
    "\n",
    "for doc in retrieved_documents:\n",
    "    print(doc)\n",
    "    print('\\n' + '-' * 80 + '\\n')"
   ],
   "id": "d8770ef2ca37e560"
  },
  {
   "metadata": {},
   "cell_type": "code",
   "outputs": [],
   "execution_count": null,
   "source": [
    "query_embedding = embedding_function([query])[0]\n",
    "retrieved_documents = results[\"embeddings\"][0]\n",
    "\n",
    "projected_query_embedding = project_embeddings([query_embedding], umap_transform)\n",
    "projected_retrieved_embeddings = project_embeddings(retrieved_documents, umap_transform)"
   ],
   "id": "b123ba2aeb3b9546"
  },
  {
   "metadata": {},
   "cell_type": "code",
   "outputs": [],
   "execution_count": null,
   "source": [
    "# Plot the projected query and retrieved documents in the embedding space\n",
    "plt.figure()\n",
    "plt.scatter(projected_dataset_embeddings[:, 0], projected_dataset_embeddings[:, 1], s=10, color='gray')\n",
    "plt.scatter(projected_query_embedding[:, 0], projected_query_embedding[:, 1], s=150, marker='X', color='r')\n",
    "plt.scatter(projected_retrieved_embeddings[:, 0], projected_retrieved_embeddings[:, 1], s=100, facecolors='none',\n",
    "            edgecolors='g')\n",
    "\n",
    "plt.gca().set_aspect('equal', 'datalim')\n",
    "plt.title(f'{query}')\n",
    "plt.axis('off')"
   ],
   "id": "2c8ededf9a49b15e"
  },
  {
   "metadata": {},
   "cell_type": "code",
   "outputs": [],
   "execution_count": null,
   "source": "# Query Expansion",
   "id": "681b7ff7a49bdf90"
  },
  {
   "metadata": {},
   "cell_type": "code",
   "outputs": [],
   "execution_count": null,
   "source": [
    "import os\n",
    "import openai\n",
    "from openai import OpenAI\n",
    "\n",
    "from dotenv import load_dotenv, find_dotenv\n",
    "\n",
    "_ = load_dotenv(find_dotenv())  # read local .env file\n",
    "openai.api_key = os.environ['OPENAI_API_KEY']\n",
    "\n",
    "openai_client = OpenAI()"
   ],
   "id": "432cd5c95df285fe"
  },
  {
   "metadata": {},
   "cell_type": "code",
   "outputs": [],
   "execution_count": null,
   "source": [
    "def augment_query_generated(query, model=\"gpt-3.5-turbo\"):\n",
    "    messages = [\n",
    "        {\n",
    "            \"role\": \"system\",\n",
    "            \"content\": \"Anda adalah seorang asisten yang sangat membantu dalam mencari sesuatu di dokumen petunjuk teknis. Berikan contoh jawaban untuk pertanyaan yang diberikan, yang mungkin ditemukan dalam dokumen seperti dokumen panduan, peraturan atau akademik.\"\n",
    "        },\n",
    "        {\"role\": \"user\", \"content\": query}\n",
    "    ]\n",
    "\n",
    "    response = openai_client.chat.completions.create(\n",
    "        model=model,\n",
    "        messages=messages,\n",
    "    )\n",
    "    content = response.choices[0].message.content\n",
    "    return content"
   ],
   "id": "7c9b427240b3629e"
  },
  {
   "metadata": {},
   "cell_type": "code",
   "outputs": [],
   "execution_count": null,
   "source": [
    "original_query = \"Berikan overview singkat apa itu spmb dan tahapan tahapan apa saja yang perlu untuk dipersiapkan\"\n",
    "hypothetical_answer = augment_query_generated(original_query)\n",
    "\n",
    "print(\"Hypotehnical Answer:\", hypothetical_answer)\n",
    "joint_query = f\"{original_query} {hypothetical_answer}\"\n"
   ],
   "id": "6e3b35e52fab8785"
  },
  {
   "metadata": {},
   "cell_type": "code",
   "outputs": [],
   "execution_count": null,
   "source": [
    "results = chroma_collection.query(query_texts=joint_query, n_results=5, include=['documents', 'embeddings'])\n",
    "retrieved_documents = results['documents'][0]\n",
    "\n",
    "for doc in retrieved_documents:\n",
    "    print(doc)\n",
    "    print('\\n' + '-' * 80 + '\\n')"
   ],
   "id": "204eb55dbdac7795"
  },
  {
   "metadata": {},
   "cell_type": "code",
   "outputs": [],
   "execution_count": null,
   "source": [
    "retrieved_embeddings = results['embeddings'][0]\n",
    "original_query_embedding = embedding_function([original_query])\n",
    "augmented_query_embedding = embedding_function([joint_query])\n",
    "\n",
    "projected_original_query_embedding = project_embeddings(original_query_embedding, umap_transform)\n",
    "projected_augmented_query_embedding = project_embeddings(augmented_query_embedding, umap_transform)\n",
    "projected_retrieved_embeddings = project_embeddings(retrieved_embeddings, umap_transform)"
   ],
   "id": "1af4a697ecb3c8ef"
  },
  {
   "metadata": {},
   "cell_type": "code",
   "outputs": [],
   "execution_count": null,
   "source": [
    "import matplotlib.pyplot as plt\n",
    "\n",
    "# Plot the projected query and retrieved documents in the embedding space\n",
    "plt.figure()\n",
    "plt.scatter(projected_dataset_embeddings[:, 0], projected_dataset_embeddings[:, 1], s=10, color='gray')\n",
    "plt.scatter(projected_retrieved_embeddings[:, 0], projected_retrieved_embeddings[:, 1], s=100, facecolors='none',\n",
    "            edgecolors='g')\n",
    "plt.scatter(projected_original_query_embedding[:, 0], projected_original_query_embedding[:, 1], s=150, marker='X',\n",
    "            color='r')\n",
    "plt.scatter(projected_augmented_query_embedding[:, 0], projected_augmented_query_embedding[:, 1], s=150, marker='X',\n",
    "            color='orange')\n",
    "\n",
    "plt.gca().set_aspect('equal', 'datalim')\n",
    "plt.title(f'{original_query}')\n",
    "plt.axis('off')"
   ],
   "id": "3243d09f59fbf704"
  },
  {
   "metadata": {},
   "cell_type": "code",
   "outputs": [],
   "execution_count": null,
   "source": [
    "def augment_multiple_query(query, model=\"gpt-3.5-turbo\"):\n",
    "    messages = [\n",
    "        {\n",
    "            \"role\": \"system\",\n",
    "            \"content\": \"Anda adalah asisten psisten yang sangat membantu dalam mencari sesuatu di dokumen peraturan petunjuk teknis. Anda mengajukan pertanyaan tentang dokumen di peraturan. \"\n",
    "                       \"Sarankan hingga lima pertanyaan tambahan yang terkait untuk membantu mereka menemukan informasi yang mereka butuhkan, untuk pertanyaan yang diberikan. \"\n",
    "                       \"Sarankan hanya pertanyaan singkat tanpa kalimat majemuk. Sarankan berbagai pertanyaan yang mencakup berbagai aspek topik.\"\n",
    "                       \"Pastikan pertanyaan-pertanyaan tersebut lengkap, dan berhubungan dengan pertanyaan awal.\"\n",
    "                       \"Keluarkan satu pertanyaan per baris. Jangan beri nomor pada pertanyaan.\"\n",
    "        },\n",
    "        {\"role\": \"user\", \"content\": query}\n",
    "    ]\n",
    "\n",
    "    response = openai_client.chat.completions.create(\n",
    "        model=model,\n",
    "        messages=messages,\n",
    "    )\n",
    "    content = response.choices[0].message.content\n",
    "    content = content.split(\"\\n\")\n",
    "    return content"
   ],
   "id": "59b6d582e8192765"
  },
  {
   "metadata": {},
   "cell_type": "code",
   "outputs": [],
   "execution_count": null,
   "source": [
    "original_query = \"Apa saja syarat untuk mendaftar SPMB Jatim 2025?\"\n",
    "augmented_queries = augment_multiple_query(original_query)\n",
    "\n",
    "for query in augmented_queries:\n",
    "    print(query)\n"
   ],
   "id": "51b93c784f1e74b2"
  },
  {
   "metadata": {},
   "cell_type": "code",
   "outputs": [],
   "execution_count": null,
   "source": [
    "queries = [original_query] + augmented_queries\n",
    "results = chroma_collection.query(query_texts=queries, n_results=5, include=['documents', 'embeddings'])\n",
    "\n",
    "retrieved_documents = results['documents']\n",
    "\n",
    "# Deduplicate the retrieved documents\n",
    "unique_documents = set()\n",
    "for documents in retrieved_documents:\n",
    "    for document in documents:\n",
    "        unique_documents.add(document)\n",
    "\n",
    "for i, documents in enumerate(retrieved_documents):\n",
    "    print(f\"Query: {queries[i]}\")\n",
    "    print('')\n",
    "    print(\"Results:\")\n",
    "    for doc in documents:\n",
    "        print(doc)\n",
    "        print('')\n",
    "    print('-' * 100)"
   ],
   "id": "4e040531eaecb8c5"
  },
  {
   "metadata": {},
   "cell_type": "code",
   "outputs": [],
   "execution_count": null,
   "source": [
    "original_query_embedding = embedding_function([original_query])\n",
    "augmented_query_embeddings = embedding_function(augmented_queries)\n",
    "\n",
    "project_original_query = project_embeddings(original_query_embedding, umap_transform)\n",
    "project_augmented_queries = project_embeddings(augmented_query_embeddings, umap_transform)\n"
   ],
   "id": "d82059fae9f989f0"
  },
  {
   "metadata": {},
   "cell_type": "code",
   "outputs": [],
   "execution_count": null,
   "source": [
    "result_embeddings = results['embeddings']\n",
    "result_embeddings = [item for sublist in result_embeddings for item in sublist]\n",
    "projected_result_embeddings = project_embeddings(result_embeddings, umap_transform)\n"
   ],
   "id": "13f37d3f78ee154d"
  },
  {
   "metadata": {},
   "cell_type": "code",
   "outputs": [],
   "execution_count": null,
   "source": [
    "import matplotlib.pyplot as plt\n",
    "\n",
    "plt.figure()\n",
    "plt.scatter(projected_dataset_embeddings[:, 0], projected_dataset_embeddings[:, 1], s=10, color='gray')\n",
    "plt.scatter(project_augmented_queries[:, 0], project_augmented_queries[:, 1], s=150, marker='X', color='orange')\n",
    "plt.scatter(projected_result_embeddings[:, 0], projected_result_embeddings[:, 1], s=100, facecolors='none',\n",
    "            edgecolors='g')\n",
    "plt.scatter(project_original_query[:, 0], project_original_query[:, 1], s=150, marker='X', color='r')\n",
    "\n",
    "plt.gca().set_aspect('equal', 'datalim')\n",
    "plt.title(f'{original_query}')\n",
    "plt.axis('off')"
   ],
   "id": "147d45bba094fe74"
  },
  {
   "metadata": {},
   "cell_type": "code",
   "outputs": [],
   "execution_count": null,
   "source": [
    "def rag(query, retrieved_documents, model=\"gpt-3.5-turbo\"):\n",
    "    information = \"\\n\\n\".join(retrieved_documents)\n",
    "\n",
    "    messages = [\n",
    "        {\n",
    "            \"role\": \"system\",\n",
    "            \"content\": (\n",
    "                \"Kamu adalah asisten yang ahli dan membantu dalam mencari informasi dari buku petunjuk teknis. \"\n",
    "                \"Pengguna akan mengajukan pertanyaan berdasarkan informasi yang diambil dari buku petunjuk teknis. \"\n",
    "                \"Jawablah pertanyaan pengguna hanya berdasarkan informasi yang diberikan.\"\n",
    "            )\n",
    "        },\n",
    "        {\n",
    "            \"role\": \"user\",\n",
    "            \"content\": f\"Pertanyaan: {query} \\n\\nInformasi: {retrieved_documents}\"\n",
    "        }\n",
    "    ]\n",
    "\n",
    "    response = openai_client.chat.completions.create(\n",
    "        model=model,\n",
    "        messages=messages,\n",
    "    )\n",
    "    content = response.choices[0].message.content\n",
    "    return content\n"
   ],
   "id": "7cfec9c26af8250e"
  },
  {
   "metadata": {},
   "cell_type": "code",
   "outputs": [],
   "execution_count": null,
   "source": [
    "text_answer = \" \".join([doc for doc in results['documents'][0]])\n",
    "print(text_answer)\n"
   ],
   "id": "401434ab6fd9ab83"
  },
  {
   "metadata": {},
   "cell_type": "code",
   "outputs": [],
   "execution_count": null,
   "source": "",
   "id": "a622c1b0f466abd7"
  },
  {
   "metadata": {
    "ExecuteTime": {
     "end_time": "2025-04-25T16:38:37.139492Z",
     "start_time": "2025-04-25T16:38:37.136621Z"
    }
   },
   "cell_type": "code",
   "source": "",
   "id": "d97f2fc635d4c17",
   "outputs": [
    {
     "name": "stdout",
     "output_type": "stream",
     "text": [
      "Syarat untuk mendaftar SPMB Jatim 2025 dapat dilihat dalam lampiran vi dan vii keputusan terkait. Syarat tersebut mencakup daftar konsentrasi keahlian di SMA/SMK dan persyaratan khusus kesehatan di beberapa konsentrasi keahlian SMK. Lebih lanjut informasi mengenai persyaratan tersebut dapat ditemukan dalam peraturan dan ketentuan yang tertera dalam keputusan terkait SPMB Jatim 2025.\n"
     ]
    }
   ],
   "execution_count": 56
  }
 ],
 "metadata": {
  "kernelspec": {
   "display_name": "Python 3",
   "language": "python",
   "name": "python3"
  },
  "language_info": {
   "codemirror_mode": {
    "name": "ipython",
    "version": 2
   },
   "file_extension": ".py",
   "mimetype": "text/x-python",
   "name": "python",
   "nbconvert_exporter": "python",
   "pygments_lexer": "ipython2",
   "version": "2.7.6"
  }
 },
 "nbformat": 4,
 "nbformat_minor": 5
}
